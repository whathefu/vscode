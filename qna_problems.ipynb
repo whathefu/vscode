{
 "cells": [
  {
   "cell_type": "markdown",
   "metadata": {},
   "source": [
    ">**기출문제 제6회**\n",
    ">>**01 작업형 제1유형**"
   ]
  },
  {
   "cell_type": "markdown",
   "metadata": {},
   "source": [
    "## 옵션 설정"
   ]
  },
  {
   "cell_type": "code",
   "execution_count": 1,
   "metadata": {},
   "outputs": [],
   "source": [
    "import pandas as pd\n",
    "import numpy as np\n",
    "pd.set_option('display.max_columns', None) # 모든 칼럼이 출력되게 조절"
   ]
  },
  {
   "cell_type": "markdown",
   "metadata": {},
   "source": [
    "## 문제 1. \n",
    "- 다음 데이터에서 ProductA 가격과 ProductB 가격이 모두 0원이 아닌 데이터를 필터링\n",
    "- ProductA와 ProductB의 가격 차이 정의 \n",
    "- 각 도시별 가격 차이의 평균 중 가장 큰 값을 구하시오. \n",
    "- 소수점 첫째 자리에서 반올림"
   ]
  },
  {
   "cell_type": "code",
   "execution_count": null,
   "metadata": {},
   "outputs": [
    {
     "data": {
      "text/html": [
       "<div>\n",
       "<style scoped>\n",
       "    .dataframe tbody tr th:only-of-type {\n",
       "        vertical-align: middle;\n",
       "    }\n",
       "\n",
       "    .dataframe tbody tr th {\n",
       "        vertical-align: top;\n",
       "    }\n",
       "\n",
       "    .dataframe thead th {\n",
       "        text-align: right;\n",
       "    }\n",
       "</style>\n",
       "<table border=\"1\" class=\"dataframe\">\n",
       "  <thead>\n",
       "    <tr style=\"text-align: right;\">\n",
       "      <th></th>\n",
       "      <th>도시명</th>\n",
       "      <th>ProductA가격</th>\n",
       "      <th>ProductB가격</th>\n",
       "    </tr>\n",
       "  </thead>\n",
       "  <tbody>\n",
       "    <tr>\n",
       "      <th>0</th>\n",
       "      <td>울산</td>\n",
       "      <td>25000</td>\n",
       "      <td>10000</td>\n",
       "    </tr>\n",
       "    <tr>\n",
       "      <th>1</th>\n",
       "      <td>인천</td>\n",
       "      <td>30000</td>\n",
       "      <td>0</td>\n",
       "    </tr>\n",
       "    <tr>\n",
       "      <th>2</th>\n",
       "      <td>광주</td>\n",
       "      <td>15000</td>\n",
       "      <td>8000</td>\n",
       "    </tr>\n",
       "    <tr>\n",
       "      <th>3</th>\n",
       "      <td>울산</td>\n",
       "      <td>0</td>\n",
       "      <td>10000</td>\n",
       "    </tr>\n",
       "    <tr>\n",
       "      <th>4</th>\n",
       "      <td>대구</td>\n",
       "      <td>25000</td>\n",
       "      <td>6000</td>\n",
       "    </tr>\n",
       "    <tr>\n",
       "      <th>...</th>\n",
       "      <td>...</td>\n",
       "      <td>...</td>\n",
       "      <td>...</td>\n",
       "    </tr>\n",
       "    <tr>\n",
       "      <th>95</th>\n",
       "      <td>대전</td>\n",
       "      <td>25000</td>\n",
       "      <td>4000</td>\n",
       "    </tr>\n",
       "    <tr>\n",
       "      <th>96</th>\n",
       "      <td>인천</td>\n",
       "      <td>15000</td>\n",
       "      <td>6000</td>\n",
       "    </tr>\n",
       "    <tr>\n",
       "      <th>97</th>\n",
       "      <td>대전</td>\n",
       "      <td>5000</td>\n",
       "      <td>6000</td>\n",
       "    </tr>\n",
       "    <tr>\n",
       "      <th>98</th>\n",
       "      <td>울산</td>\n",
       "      <td>5000</td>\n",
       "      <td>4000</td>\n",
       "    </tr>\n",
       "    <tr>\n",
       "      <th>99</th>\n",
       "      <td>울산</td>\n",
       "      <td>20000</td>\n",
       "      <td>6000</td>\n",
       "    </tr>\n",
       "  </tbody>\n",
       "</table>\n",
       "<p>100 rows × 3 columns</p>\n",
       "</div>"
      ],
      "text/plain": [
       "   도시명  ProductA가격  ProductB가격\n",
       "0   울산       25000       10000\n",
       "1   인천       30000           0\n",
       "2   광주       15000        8000\n",
       "3   울산           0       10000\n",
       "4   대구       25000        6000\n",
       "..  ..         ...         ...\n",
       "95  대전       25000        4000\n",
       "96  인천       15000        6000\n",
       "97  대전        5000        6000\n",
       "98  울산        5000        4000\n",
       "99  울산       20000        6000\n",
       "\n",
       "[100 rows x 3 columns]"
      ]
     },
     "execution_count": 55,
     "metadata": {},
     "output_type": "execute_result"
    }
   ],
   "source": [
    "data1 = pd.read_csv('6_1_1.csv') \n",
    "data1.head()"
   ]
  },
  {
   "cell_type": "code",
   "execution_count": 84,
   "metadata": {},
   "outputs": [
    {
     "name": "stderr",
     "output_type": "stream",
     "text": [
      "C:\\Users\\Admin\\AppData\\Local\\Temp\\ipykernel_6604\\377149035.py:3: UserWarning: Boolean Series key will be reindexed to match DataFrame index.\n",
      "  not0=data_df[data_df['ProductA가격']!=0][data_df['ProductB가격']!=0]\n"
     ]
    },
    {
     "data": {
      "text/html": [
       "<div>\n",
       "<style scoped>\n",
       "    .dataframe tbody tr th:only-of-type {\n",
       "        vertical-align: middle;\n",
       "    }\n",
       "\n",
       "    .dataframe tbody tr th {\n",
       "        vertical-align: top;\n",
       "    }\n",
       "\n",
       "    .dataframe thead th {\n",
       "        text-align: right;\n",
       "    }\n",
       "</style>\n",
       "<table border=\"1\" class=\"dataframe\">\n",
       "  <thead>\n",
       "    <tr style=\"text-align: right;\">\n",
       "      <th></th>\n",
       "      <th>도시명</th>\n",
       "      <th>A와B의 차이</th>\n",
       "    </tr>\n",
       "  </thead>\n",
       "  <tbody>\n",
       "    <tr>\n",
       "      <th>0</th>\n",
       "      <td>울산</td>\n",
       "      <td>15000</td>\n",
       "    </tr>\n",
       "    <tr>\n",
       "      <th>2</th>\n",
       "      <td>광주</td>\n",
       "      <td>7000</td>\n",
       "    </tr>\n",
       "    <tr>\n",
       "      <th>4</th>\n",
       "      <td>대구</td>\n",
       "      <td>19000</td>\n",
       "    </tr>\n",
       "    <tr>\n",
       "      <th>5</th>\n",
       "      <td>광주</td>\n",
       "      <td>14000</td>\n",
       "    </tr>\n",
       "    <tr>\n",
       "      <th>6</th>\n",
       "      <td>광주</td>\n",
       "      <td>14000</td>\n",
       "    </tr>\n",
       "    <tr>\n",
       "      <th>...</th>\n",
       "      <td>...</td>\n",
       "      <td>...</td>\n",
       "    </tr>\n",
       "    <tr>\n",
       "      <th>95</th>\n",
       "      <td>대전</td>\n",
       "      <td>21000</td>\n",
       "    </tr>\n",
       "    <tr>\n",
       "      <th>96</th>\n",
       "      <td>인천</td>\n",
       "      <td>9000</td>\n",
       "    </tr>\n",
       "    <tr>\n",
       "      <th>97</th>\n",
       "      <td>대전</td>\n",
       "      <td>-1000</td>\n",
       "    </tr>\n",
       "    <tr>\n",
       "      <th>98</th>\n",
       "      <td>울산</td>\n",
       "      <td>1000</td>\n",
       "    </tr>\n",
       "    <tr>\n",
       "      <th>99</th>\n",
       "      <td>울산</td>\n",
       "      <td>14000</td>\n",
       "    </tr>\n",
       "  </tbody>\n",
       "</table>\n",
       "<p>66 rows × 2 columns</p>\n",
       "</div>"
      ],
      "text/plain": [
       "   도시명  A와B의 차이\n",
       "0   울산    15000\n",
       "2   광주     7000\n",
       "4   대구    19000\n",
       "5   광주    14000\n",
       "6   광주    14000\n",
       "..  ..      ...\n",
       "95  대전    21000\n",
       "96  인천     9000\n",
       "97  대전    -1000\n",
       "98  울산     1000\n",
       "99  울산    14000\n",
       "\n",
       "[66 rows x 2 columns]"
      ]
     },
     "execution_count": 84,
     "metadata": {},
     "output_type": "execute_result"
    }
   ],
   "source": [
    "# 코드 \n",
    "data_df=data1.copy()\n",
    "not0=data_df[data_df['ProductA가격']!=0][data_df['ProductB가격']!=0]\n",
    "# pricecha=not0[not0['ProductA가격']-not0['ProductB가격']]\n",
    "cha=(not0['ProductA가격'])-(not0['ProductB가격'])\n",
    "not0['A와B의 차이']=cha\n",
    "not0[['도시명','A와B의 차이']]\n",
    "\n",
    "\n",
    "\n",
    "\n"
   ]
  },
  {
   "cell_type": "markdown",
   "metadata": {},
   "source": [
    "## 문제 2. \n",
    "- 100명의 키와 몸무게를 조사하여 적정 체중인지 판단할 수 있는 BMI 산출\n",
    "- 다음 정의를 기준으로 저체중, 정상, 과체중, 비만을 구분하고, 저체중인 사람과 비만인 사람의 총 합을 구하시오. \n",
    "- 구분 (BMI 기준, 소수점 둘째자리까지)\n",
    "    + 저체중 : 18.5 미만\n",
    "    + 정상 : 18.5 이상 23 미만\n",
    "    + 과체중 : 23 이상 25 미만\n",
    "    + 비만 : 25 이상\n",
    "$$BMI = \\frac{몸무게(kg)}{키(m)^2}$$\n",
    "\n",
    "    "
   ]
  },
  {
   "cell_type": "code",
   "execution_count": 7,
   "metadata": {},
   "outputs": [
    {
     "data": {
      "text/html": [
       "<div>\n",
       "<style scoped>\n",
       "    .dataframe tbody tr th:only-of-type {\n",
       "        vertical-align: middle;\n",
       "    }\n",
       "\n",
       "    .dataframe tbody tr th {\n",
       "        vertical-align: top;\n",
       "    }\n",
       "\n",
       "    .dataframe thead th {\n",
       "        text-align: right;\n",
       "    }\n",
       "</style>\n",
       "<table border=\"1\" class=\"dataframe\">\n",
       "  <thead>\n",
       "    <tr style=\"text-align: right;\">\n",
       "      <th></th>\n",
       "      <th>Height_cm</th>\n",
       "      <th>Weight_kg</th>\n",
       "    </tr>\n",
       "  </thead>\n",
       "  <tbody>\n",
       "    <tr>\n",
       "      <th>0</th>\n",
       "      <td>165.02132</td>\n",
       "      <td>66.131592</td>\n",
       "    </tr>\n",
       "  </tbody>\n",
       "</table>\n",
       "</div>"
      ],
      "text/plain": [
       "   Height_cm  Weight_kg\n",
       "0  165.02132  66.131592"
      ]
     },
     "execution_count": 7,
     "metadata": {},
     "output_type": "execute_result"
    }
   ],
   "source": [
    "data2 = pd.read_csv('6_1_2.csv')\n",
    "data2.head(1)"
   ]
  },
  {
   "cell_type": "code",
   "execution_count": 11,
   "metadata": {},
   "outputs": [
    {
     "name": "stdout",
     "output_type": "stream",
     "text": [
      "저체중과 비만인 사람의 수: 74\n"
     ]
    }
   ],
   "source": [
    "# 코드 "
   ]
  },
  {
   "cell_type": "markdown",
   "metadata": {},
   "source": [
    "## 문제 3. \n",
    "- 다음 데이터에서 연도별로 가장 큰 순생산량(생산된 제품 수 - 판매된 제품 수)을 가진 공장을 찾고, 순생산량이 합을 계산하시오. \n",
    "    + products made domestic : 국내 생산된 제품 수\n",
    "    + products made international : 해외 생산된 제품 수\n",
    "    + products sold domestic : 국내 판매된 제품 수\n",
    "    + products sold international : 해외 판매된 제품 수"
   ]
  },
  {
   "cell_type": "code",
   "execution_count": 3,
   "metadata": {},
   "outputs": [
    {
     "data": {
      "text/html": [
       "<div>\n",
       "<style scoped>\n",
       "    .dataframe tbody tr th:only-of-type {\n",
       "        vertical-align: middle;\n",
       "    }\n",
       "\n",
       "    .dataframe tbody tr th {\n",
       "        vertical-align: top;\n",
       "    }\n",
       "\n",
       "    .dataframe thead th {\n",
       "        text-align: right;\n",
       "    }\n",
       "</style>\n",
       "<table border=\"1\" class=\"dataframe\">\n",
       "  <thead>\n",
       "    <tr style=\"text-align: right;\">\n",
       "      <th></th>\n",
       "      <th>factory</th>\n",
       "      <th>products_made_domestic</th>\n",
       "      <th>products_made_international</th>\n",
       "      <th>products_sold_domestic</th>\n",
       "      <th>products_sold_international</th>\n",
       "      <th>materials_received_domestic</th>\n",
       "      <th>materials_received_international</th>\n",
       "      <th>materials_used_domestic</th>\n",
       "      <th>materials_used_international</th>\n",
       "      <th>year</th>\n",
       "    </tr>\n",
       "  </thead>\n",
       "  <tbody>\n",
       "    <tr>\n",
       "      <th>0</th>\n",
       "      <td>Factory B</td>\n",
       "      <td>1428</td>\n",
       "      <td>814</td>\n",
       "      <td>1633</td>\n",
       "      <td>274</td>\n",
       "      <td>550</td>\n",
       "      <td>362</td>\n",
       "      <td>1048</td>\n",
       "      <td>580</td>\n",
       "      <td>2020</td>\n",
       "    </tr>\n",
       "  </tbody>\n",
       "</table>\n",
       "</div>"
      ],
      "text/plain": [
       "     factory  products_made_domestic  products_made_international  \\\n",
       "0  Factory B                    1428                          814   \n",
       "\n",
       "   products_sold_domestic  products_sold_international  \\\n",
       "0                    1633                          274   \n",
       "\n",
       "   materials_received_domestic  materials_received_international  \\\n",
       "0                          550                               362   \n",
       "\n",
       "   materials_used_domestic  materials_used_international  year  \n",
       "0                     1048                           580  2020  "
      ]
     },
     "execution_count": 3,
     "metadata": {},
     "output_type": "execute_result"
    }
   ],
   "source": [
    "data3 = pd.read_csv('6_1_3.csv')\n",
    "data3.head(1)"
   ]
  },
  {
   "cell_type": "code",
   "execution_count": 5,
   "metadata": {},
   "outputs": [
    {
     "name": "stdout",
     "output_type": "stream",
     "text": [
      "연도별 순생산량이 가장 큰 공장:\n",
      "    year    factory  net_production\n",
      "12  2020  Factory E            2034\n",
      "75  2021  Factory A            1248\n",
      "96  2022  Factory E            1474\n",
      "49  2023  Factory B            1032\n",
      "\n",
      "순생산량 합계: 5788\n"
     ]
    }
   ],
   "source": [
    "# 코드"
   ]
  }
 ],
 "metadata": {
  "kernelspec": {
   "display_name": "Python 3",
   "language": "python",
   "name": "python3"
  },
  "language_info": {
   "codemirror_mode": {
    "name": "ipython",
    "version": 3
   },
   "file_extension": ".py",
   "mimetype": "text/x-python",
   "name": "python",
   "nbconvert_exporter": "python",
   "pygments_lexer": "ipython3",
   "version": "3.13.2"
  }
 },
 "nbformat": 4,
 "nbformat_minor": 2
}
